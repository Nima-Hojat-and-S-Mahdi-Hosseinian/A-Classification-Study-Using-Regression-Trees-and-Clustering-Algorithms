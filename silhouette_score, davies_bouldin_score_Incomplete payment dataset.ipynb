{
 "cells": [
  {
   "cell_type": "code",
   "execution_count": 1,
   "id": "ece001f3-1689-49ae-9777-01c3f6303d97",
   "metadata": {},
   "outputs": [
    {
     "name": "stdout",
     "output_type": "stream",
     "text": [
      "Silhouette Score for 2 clusters: 0.36150519730468866\n",
      "Davies-Bouldin Score for 2 clusters: 1.1764192741923636\n",
      "Silhouette Score for 3 clusters: 0.3646488925277868\n",
      "Davies-Bouldin Score for 3 clusters: 0.966805723794539\n",
      "Silhouette Score for 4 clusters: 0.3549928542235575\n",
      "Davies-Bouldin Score for 4 clusters: 0.9629175069774729\n",
      "Silhouette Score for 5 clusters: 0.31283262268714224\n",
      "Davies-Bouldin Score for 5 clusters: 1.0038288736749417\n",
      "Silhouette Score for 6 clusters: 0.3287124348335066\n",
      "Davies-Bouldin Score for 6 clusters: 1.0495427242096207\n",
      "Silhouette Score for 7 clusters: 0.3399865834670593\n",
      "Davies-Bouldin Score for 7 clusters: 0.9880789376326341\n",
      "Silhouette Score for 8 clusters: 0.356804437335951\n",
      "Davies-Bouldin Score for 8 clusters: 0.9258366221743413\n",
      "Silhouette Score for 9 clusters: 0.3638440496443739\n",
      "Davies-Bouldin Score for 9 clusters: 0.9180737335049957\n",
      "Silhouette Score for 10 clusters: 0.3551010965297117\n",
      "Davies-Bouldin Score for 10 clusters: 0.9400909816263313\n"
     ]
    }
   ],
   "source": [
    "import pandas as pd\n",
    "import matplotlib.pyplot as plt\n",
    "from sklearn.preprocessing import StandardScaler\n",
    "from sklearn.cluster import KMeans\n",
    "from sklearn.metrics import silhouette_score, davies_bouldin_score\n",
    "\n",
    "# Load the dataset\n",
    "df = pd.read_csv(\"Incomplete payment dataset.csv\")\n",
    "df = df.drop(columns=['MARK'])\n",
    "\n",
    "# Standardize the features\n",
    "scaler = StandardScaler()\n",
    "df[['y_T', 'Alpha_T', 't_T', 'p_T']] = scaler.fit_transform(df[['y', 'Alpha', 't', 'p']])\n",
    "\n",
    "# Calculate silhouette scores and Davies-Bouldin scores for different numbers of clusters\n",
    "silhouette_scores = []\n",
    "davies_bouldin_scores = []\n",
    "cluster_range = range(2, 11)  # Both metrics are not defined for n_clusters=1\n",
    "\n",
    "for n_clusters in cluster_range:\n",
    "    kmeans = KMeans(n_clusters=n_clusters, random_state=42)\n",
    "    cluster_labels = kmeans.fit_predict(df[['y_T', 'Alpha_T', 't_T', 'p_T']])\n",
    "    \n",
    "    # Calculate silhouette score\n",
    "    sil_score = silhouette_score(df[['y_T', 'Alpha_T', 't_T', 'p_T']], cluster_labels)\n",
    "    silhouette_scores.append(sil_score)\n",
    "    \n",
    "    # Calculate Davies-Bouldin score\n",
    "    db_score = davies_bouldin_score(df[['y_T', 'Alpha_T', 't_T', 'p_T']], cluster_labels)\n",
    "    davies_bouldin_scores.append(db_score)\n",
    "    \n",
    "    print(f\"Silhouette Score for {n_clusters} clusters: {sil_score}\")\n",
    "    print(f\"Davies-Bouldin Score for {n_clusters} clusters: {db_score}\")\n",
    "\n"
   ]
  },
  {
   "cell_type": "code",
   "execution_count": null,
   "id": "183e996e-9cf3-4b1f-9ef1-9b0ce6074140",
   "metadata": {},
   "outputs": [],
   "source": []
  }
 ],
 "metadata": {
  "kernelspec": {
   "display_name": "Python 3 (ipykernel)",
   "language": "python",
   "name": "python3"
  },
  "language_info": {
   "codemirror_mode": {
    "name": "ipython",
    "version": 3
   },
   "file_extension": ".py",
   "mimetype": "text/x-python",
   "name": "python",
   "nbconvert_exporter": "python",
   "pygments_lexer": "ipython3",
   "version": "3.12.3"
  }
 },
 "nbformat": 4,
 "nbformat_minor": 5
}
