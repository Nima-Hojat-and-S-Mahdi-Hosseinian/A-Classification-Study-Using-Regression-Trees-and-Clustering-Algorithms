{
 "cells": [
  {
   "cell_type": "code",
   "execution_count": 1,
   "id": "1f5f3344-c0c3-440d-86c1-c4d61dd69f53",
   "metadata": {},
   "outputs": [
    {
     "name": "stdout",
     "output_type": "stream",
     "text": [
      "Silhouette Score for 2 clusters: 0.3728550264436199\n",
      "Davies-Bouldin Score for 2 clusters: 0.9831585904240556\n",
      "Silhouette Score for 3 clusters: 0.3288727815854123\n",
      "Davies-Bouldin Score for 3 clusters: 1.0610180961787703\n",
      "Silhouette Score for 4 clusters: 0.30408148072629365\n",
      "Davies-Bouldin Score for 4 clusters: 1.042078324501569\n",
      "Silhouette Score for 5 clusters: 0.3066147603137512\n",
      "Davies-Bouldin Score for 5 clusters: 1.0117329494458727\n",
      "Silhouette Score for 6 clusters: 0.25705811444843135\n",
      "Davies-Bouldin Score for 6 clusters: 1.1100211867790515\n",
      "Silhouette Score for 7 clusters: 0.22420131925158562\n",
      "Davies-Bouldin Score for 7 clusters: 1.1750122039936437\n",
      "Silhouette Score for 8 clusters: 0.23085127088340884\n",
      "Davies-Bouldin Score for 8 clusters: 1.1106852098453204\n",
      "Silhouette Score for 9 clusters: 0.24572102165771986\n",
      "Davies-Bouldin Score for 9 clusters: 1.0439062860625858\n",
      "Silhouette Score for 10 clusters: 0.22964362065655997\n",
      "Davies-Bouldin Score for 10 clusters: 1.1015911371439118\n"
     ]
    }
   ],
   "source": [
    "import pandas as pd\n",
    "import matplotlib.pyplot as plt\n",
    "from sklearn.preprocessing import StandardScaler\n",
    "from sklearn.cluster import KMeans\n",
    "from sklearn.metrics import silhouette_score, davies_bouldin_score\n",
    "\n",
    "# Load the dataset\n",
    "df = pd.read_csv(\"Complete payment dataset.csv\")\n",
    "df = df.drop(columns=['MARK'])\n",
    "\n",
    "# Standardize the features\n",
    "scaler = StandardScaler()\n",
    "df[['y_T', 'Alpha_T', 't_T', 'p_T']] = scaler.fit_transform(df[['y', 'Alpha', 't', 'p']])\n",
    "\n",
    "# Calculate silhouette scores and Davies-Bouldin scores for different numbers of clusters\n",
    "silhouette_scores = []\n",
    "davies_bouldin_scores = []\n",
    "cluster_range = range(2, 11)  # Both metrics are not defined for n_clusters=1\n",
    "\n",
    "for n_clusters in cluster_range:\n",
    "    kmeans = KMeans(n_clusters=n_clusters, random_state=42)\n",
    "    cluster_labels = kmeans.fit_predict(df[['y_T', 'Alpha_T', 't_T', 'p_T']])\n",
    "    \n",
    "    # Calculate silhouette score\n",
    "    sil_score = silhouette_score(df[['y_T', 'Alpha_T', 't_T', 'p_T']], cluster_labels)\n",
    "    silhouette_scores.append(sil_score)\n",
    "    \n",
    "    # Calculate Davies-Bouldin score\n",
    "    db_score = davies_bouldin_score(df[['y_T', 'Alpha_T', 't_T', 'p_T']], cluster_labels)\n",
    "    davies_bouldin_scores.append(db_score)\n",
    "    \n",
    "    print(f\"Silhouette Score for {n_clusters} clusters: {sil_score}\")\n",
    "    print(f\"Davies-Bouldin Score for {n_clusters} clusters: {db_score}\")\n",
    "\n",
    "\n"
   ]
  },
  {
   "cell_type": "code",
   "execution_count": null,
   "id": "a68f5919-a878-4e72-8b6b-4ca4f8e9bdff",
   "metadata": {},
   "outputs": [],
   "source": []
  }
 ],
 "metadata": {
  "kernelspec": {
   "display_name": "Python 3 (ipykernel)",
   "language": "python",
   "name": "python3"
  },
  "language_info": {
   "codemirror_mode": {
    "name": "ipython",
    "version": 3
   },
   "file_extension": ".py",
   "mimetype": "text/x-python",
   "name": "python",
   "nbconvert_exporter": "python",
   "pygments_lexer": "ipython3",
   "version": "3.12.3"
  }
 },
 "nbformat": 4,
 "nbformat_minor": 5
}
